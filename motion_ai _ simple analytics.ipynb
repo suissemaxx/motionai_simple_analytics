{
 "cells": [
  {
   "cell_type": "code",
   "execution_count": null,
   "metadata": {
    "collapsed": false,
    "deletable": true,
    "editable": true
   },
   "outputs": [],
   "source": [
    "%matplotlib inline\n",
    "%config InlineBackend.figure_format = 'retina'\n",
    "\n",
    "import pandas as pd\n",
    "import numpy as np\n",
    "\n",
    "import matplotlib.pyplot as plt\n",
    "plt.style.use('ggplot')\n",
    "\n",
    "from datetime import datetime\n",
    "from dateutil.parser import parse"
   ]
  },
  {
   "cell_type": "code",
   "execution_count": null,
   "metadata": {
    "collapsed": false,
    "deletable": true,
    "editable": true,
    "scrolled": true
   },
   "outputs": [],
   "source": [
    "path_to_your_csv_file = \"./motionai.csv\"# <--- put in your filename / filepath to your csv-report\n",
    "\n",
    "# read report\n",
    "df = pd.read_csv(path_to_your_csv_file, error_bad_lines= True, low_memory=False)\n",
    "\n",
    "# drop messages from tests\n",
    "test_msgs = np.where(df['testMode']==True)\n",
    "df = df.drop(test_msgs[0])\n",
    "\n",
    "# convert time column to datetime format\n",
    "df[\"timestamp\"] = df['createdAt'].apply(lambda x: parse(x))\n",
    "\n",
    "# set timestamps as index of dataframe\n",
    "df.index = df.timestamp\n",
    "\n",
    "# drop unnecessary columns\n",
    "df = df.drop(['_id', 'createdAt', 'updatedAt', '__v', 'archived', 'direction', \n",
    "              'botType', 'botNickname', 'botOwner', 'botID',\n",
    "       'enrichedData', 'result', 'updated_at', 'sid', 'testMode', 'hasSeen', 'to', 'from', 'from_metaData', \n",
    "              'quickReplies', 'cardOptions', 'cards', 'media', 'mediaUrl' ], axis=1)\n",
    "\n",
    "# rename module columns to clarify meaning\n",
    "df.columns.values[0] = \"module_in\"\n",
    "df.columns.values[1] = \"module_to\""
   ]
  },
  {
   "cell_type": "code",
   "execution_count": null,
   "metadata": {
    "collapsed": false,
    "deletable": true,
    "editable": true
   },
   "outputs": [],
   "source": [
    "# print stats\n",
    "session = df.groupby(\"session\")\n",
    "stats = session.text.count().describe()\n",
    "max_messages = int(stats[7])\n",
    "print(\"Your bot got %u messages (in) from %u unique sessions.\\nThe mean of messages per session was %u, the median %u.\\nMin/max messages per session: %u / %u.\" % (len(df), stats[0],stats[1],stats[5],stats[3],stats[7]))\n",
    "print(\"\")\n",
    "print(stats)"
   ]
  },
  {
   "cell_type": "code",
   "execution_count": null,
   "metadata": {
    "collapsed": false,
    "deletable": true,
    "editable": true
   },
   "outputs": [],
   "source": [
    "# plot histogram of messages per session\n",
    "plt.figure(figsize=(16,9))\n",
    "plt.rcParams.update({'font.size': 14})\n",
    "plt.hist(session.text.count(), bins=int(max_messages/2), rwidth=.70)\n",
    "plt.xlim(1, max_messages)\n",
    "plt.title('Sessions per # of Messages\\n')\n",
    "plt.ylabel('# Sessions')\n",
    "plt.xlabel('# Messages')\n",
    "plt.show()"
   ]
  },
  {
   "cell_type": "code",
   "execution_count": null,
   "metadata": {
    "collapsed": false,
    "deletable": true,
    "editable": true
   },
   "outputs": [],
   "source": [
    "# save sorted list of module ids and their counts\n",
    "top_modules = df.module_in.value_counts()\n",
    "top_modules.to_csv(\"./top_modules.csv\", index_label=\"module id\", header=[\"counts\"], encoding=\"utf8\")\n",
    "\n",
    "# save sorted list of user messages ids and their counts\n",
    "top_user_messages = df.text.value_counts()\n",
    "top_user_messages.to_csv(\"./top_user_messages.csv\", sep=\"\\t\", encoding=\"utf8\")  "
   ]
  },
  {
   "cell_type": "code",
   "execution_count": null,
   "metadata": {
    "collapsed": false,
    "deletable": true,
    "editable": true
   },
   "outputs": [],
   "source": [
    "# plot bar chart of daily usage\n",
    "byday = df.session.resample('D').apply(lambda x: x.nunique())\n",
    "plt.axes().set_ylabel('# Sessions')\n",
    "byday.plot(kind=\"bar\", figsize=(16,9), rot=45, title=\"Usage by day\\n\", fontsize=10)"
   ]
  },
  {
   "cell_type": "code",
   "execution_count": null,
   "metadata": {
    "collapsed": false,
    "deletable": true,
    "editable": true
   },
   "outputs": [],
   "source": [
    "# plot line chart of hourly usage\n",
    "byhour = df.session.resample('H').apply(lambda x: x.nunique())\n",
    "byhour.plot(kind=\"line\", figsize=(16,9), rot=45, title=\"Usage by hour\\n\", fontsize=10)"
   ]
  }
 ],
 "metadata": {
  "kernelspec": {
   "display_name": "Python 3",
   "language": "python",
   "name": "python3"
  },
  "language_info": {
   "codemirror_mode": {
    "name": "ipython",
    "version": 3
   },
   "file_extension": ".py",
   "mimetype": "text/x-python",
   "name": "python",
   "nbconvert_exporter": "python",
   "pygments_lexer": "ipython3",
   "version": "3.5.3"
  }
 },
 "nbformat": 4,
 "nbformat_minor": 2
}
